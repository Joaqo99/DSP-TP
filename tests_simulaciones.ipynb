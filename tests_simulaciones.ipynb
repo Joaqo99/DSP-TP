{
 "cells": [
  {
   "cell_type": "code",
   "execution_count": 1,
   "id": "d1a8b8f9",
   "metadata": {},
   "outputs": [],
   "source": [
    "import numpy as np\n",
    "import matplotlib.pyplot as plt\n",
    "import pyroomacoustics as pra\n",
    "from numpy import hamming\n",
    "import audio_functions as af\n",
    "import plot\n",
    "import time"
   ]
  },
  {
   "cell_type": "code",
   "execution_count": 2,
   "id": "dda000a9",
   "metadata": {},
   "outputs": [
    {
     "name": "stdout",
     "output_type": "stream",
     "text": [
      "Simulación generada en simulaciones/prueba t60-0.4\n"
     ]
    }
   ],
   "source": [
    "sim_names = []\n",
    "\n",
    "for i in range(1):\n",
    "    mod_dict = {\"var\":\"room\", \"param\":\"t60\", \"value\":(0.4+i*0.15)}\n",
    "    #mod_dict = {\"var\":\"room\", \"param\":\"dim\", \"value\":[7,8, 3]}\n",
    "    #mod_dict = {\"var\":\"mic_array\", \"param\":\"position\", \"value\":[3,3, 1.5]}\n",
    "    sim_name = f\"prueba t60-{0.4+i*0.15}\"\n",
    "    af.gen_simulation_dict(sim_name, mod_dict)\n",
    "    sim_names.append(sim_name)\n",
    "    time.sleep(1)\n",
    "\n"
   ]
  },
  {
   "cell_type": "code",
   "execution_count": 3,
   "id": "4ffd702c",
   "metadata": {},
   "outputs": [
    {
     "name": "stdout",
     "output_type": "stream",
     "text": [
      "[0.0, 0.00010416666666666667, 0.0002708333333333333, 0.0004583333333333333]\n",
      "[0.0, 69.07, 62.32, 58.4]\n",
      "[0.0, 0.000125, -0.0030416666666666665, 0.000625]\n",
      "[0.0, 64.61, nan, 44.39]\n"
     ]
    },
    {
     "name": "stderr",
     "output_type": "stream",
     "text": [
      "c:\\Users\\joaqo\\OneDrive\\Escritorio\\facultad\\materias\\DSP\\DSP-TP\\audio_functions.py:124: RuntimeWarning: invalid value encountered in arccos\n",
      "  angle = np.arccos(c*t/d)\n"
     ]
    },
    {
     "name": "stdout",
     "output_type": "stream",
     "text": [
      "[0.0, 0.000125, 0.0003125, 0.0004166666666666667]\n",
      "[0.0, 64.61, 57.59, 61.55]\n",
      "[0.0, 0.000125, 0.0003125, 0.0004166666666666667]\n",
      "[0.0, 64.61, 57.59, 61.55]\n",
      "[0.0, 2.0833333333333333e-05, 0.00010416666666666667, 0.00022916666666666666]\n",
      "[0.0, 85.9, 79.71, 74.81]\n",
      "[0.0, 0.00014583333333333335, 0.0002916666666666667, 0.0004583333333333333]\n",
      "[0.0, 59.99, 59.99, 58.4]\n"
     ]
    }
   ],
   "source": [
    "df = af.process_simulation_data(*sim_names)"
   ]
  },
  {
   "cell_type": "code",
   "execution_count": 4,
   "id": "363ec8b9",
   "metadata": {},
   "outputs": [
    {
     "data": {
      "text/html": [
       "<div>\n",
       "<style scoped>\n",
       "    .dataframe tbody tr th:only-of-type {\n",
       "        vertical-align: middle;\n",
       "    }\n",
       "\n",
       "    .dataframe tbody tr th {\n",
       "        vertical-align: top;\n",
       "    }\n",
       "\n",
       "    .dataframe thead th {\n",
       "        text-align: right;\n",
       "    }\n",
       "</style>\n",
       "<table border=\"1\" class=\"dataframe\">\n",
       "  <thead>\n",
       "    <tr style=\"text-align: right;\">\n",
       "      <th></th>\n",
       "      <th>sim_name</th>\n",
       "      <th>expected_theta</th>\n",
       "      <th>method</th>\n",
       "      <th>theta_prom</th>\n",
       "      <th>error</th>\n",
       "      <th>est_theta_list</th>\n",
       "    </tr>\n",
       "  </thead>\n",
       "  <tbody>\n",
       "    <tr>\n",
       "      <th>0</th>\n",
       "      <td>prueba t60-0.4</td>\n",
       "      <td>46.397</td>\n",
       "      <td>Classic</td>\n",
       "      <td>63.263</td>\n",
       "      <td>284.4732</td>\n",
       "      <td>[0.0, 69.07, 62.32, 58.4]</td>\n",
       "    </tr>\n",
       "    <tr>\n",
       "      <th>1</th>\n",
       "      <td>prueba t60-0.4</td>\n",
       "      <td>46.397</td>\n",
       "      <td>ROTH</td>\n",
       "      <td>NaN</td>\n",
       "      <td>NaN</td>\n",
       "      <td>[0.0, 64.61, nan, 44.39]</td>\n",
       "    </tr>\n",
       "    <tr>\n",
       "      <th>2</th>\n",
       "      <td>prueba t60-0.4</td>\n",
       "      <td>46.397</td>\n",
       "      <td>PHAT</td>\n",
       "      <td>61.250</td>\n",
       "      <td>220.6116</td>\n",
       "      <td>[0.0, 64.61, 57.59, 61.55]</td>\n",
       "    </tr>\n",
       "    <tr>\n",
       "      <th>3</th>\n",
       "      <td>prueba t60-0.4</td>\n",
       "      <td>46.397</td>\n",
       "      <td>SCOT</td>\n",
       "      <td>61.250</td>\n",
       "      <td>220.6116</td>\n",
       "      <td>[0.0, 64.61, 57.59, 61.55]</td>\n",
       "    </tr>\n",
       "    <tr>\n",
       "      <th>4</th>\n",
       "      <td>prueba t60-0.4</td>\n",
       "      <td>46.397</td>\n",
       "      <td>ECKART</td>\n",
       "      <td>80.140</td>\n",
       "      <td>1138.5900</td>\n",
       "      <td>[0.0, 85.9, 79.71, 74.81]</td>\n",
       "    </tr>\n",
       "    <tr>\n",
       "      <th>5</th>\n",
       "      <td>prueba t60-0.4</td>\n",
       "      <td>46.397</td>\n",
       "      <td>HT</td>\n",
       "      <td>59.460</td>\n",
       "      <td>170.6420</td>\n",
       "      <td>[0.0, 59.99, 59.99, 58.4]</td>\n",
       "    </tr>\n",
       "  </tbody>\n",
       "</table>\n",
       "</div>"
      ],
      "text/plain": [
       "         sim_name  expected_theta   method  theta_prom      error  \\\n",
       "0  prueba t60-0.4          46.397  Classic      63.263   284.4732   \n",
       "1  prueba t60-0.4          46.397     ROTH         NaN        NaN   \n",
       "2  prueba t60-0.4          46.397     PHAT      61.250   220.6116   \n",
       "3  prueba t60-0.4          46.397     SCOT      61.250   220.6116   \n",
       "4  prueba t60-0.4          46.397   ECKART      80.140  1138.5900   \n",
       "5  prueba t60-0.4          46.397       HT      59.460   170.6420   \n",
       "\n",
       "               est_theta_list  \n",
       "0   [0.0, 69.07, 62.32, 58.4]  \n",
       "1    [0.0, 64.61, nan, 44.39]  \n",
       "2  [0.0, 64.61, 57.59, 61.55]  \n",
       "3  [0.0, 64.61, 57.59, 61.55]  \n",
       "4   [0.0, 85.9, 79.71, 74.81]  \n",
       "5   [0.0, 59.99, 59.99, 58.4]  "
      ]
     },
     "execution_count": 4,
     "metadata": {},
     "output_type": "execute_result"
    }
   ],
   "source": [
    "df"
   ]
  }
 ],
 "metadata": {
  "kernelspec": {
   "display_name": "Sonido",
   "language": "python",
   "name": "python3"
  },
  "language_info": {
   "codemirror_mode": {
    "name": "ipython",
    "version": 3
   },
   "file_extension": ".py",
   "mimetype": "text/x-python",
   "name": "python",
   "nbconvert_exporter": "python",
   "pygments_lexer": "ipython3",
   "version": "3.12.3"
  }
 },
 "nbformat": 4,
 "nbformat_minor": 5
}
