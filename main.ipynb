{
 "cells": [
  {
   "cell_type": "markdown",
   "id": "87dfb13a",
   "metadata": {},
   "source": [
    "# Estimación de dirección de arribo de fuentes sonoras\n",
    "\n",
    "El objetivo del trabajo es diseñar un sistema de estimación de dirección de arribo de funetes sonoras a través de arrays de micrófonos.\n",
    "\n",
    "## Situación inicial:\n",
    "\n",
    "Nos encontramos en campo libre y a una distancia de la fuente de manera que la longitud de onda se considera plana. El sistema consiste en 2 micrófonos de medición de campo libre, esto es respuesta plana en frecuencia y patrón polar omnidireccional, separados por una distancia $d$ de 10 cm. La estimación de dirección se calculará a partir de la diferencia de tiempo de arrivo entre los micrófonos, en donde la diferencia de tiempo de arrivo será obtenida a través de la correlación cruzada entre la señal de ambos micrófonos:\n",
    "\n",
    "$$\n",
    "R_{xy}[k] = \\sum_{n=0}^{N-1} x[n] \\cdot y[n + k]\n",
    "$$\n",
    "\n",
    "$$\n",
    "\\tau_{1,2} = \\frac{d\\cdot cos(\\theta)}{c}\n",
    "$$\n",
    "\n",
    "$$\n",
    "\\theta = arcos(\\frac{c\\cdot \\tau_{1,2}}{d})\n",
    "$$\n"
   ]
  },
  {
   "cell_type": "markdown",
   "id": "055eb918",
   "metadata": {},
   "source": []
  }
 ],
 "metadata": {
  "language_info": {
   "name": "python"
  }
 },
 "nbformat": 4,
 "nbformat_minor": 5
}
